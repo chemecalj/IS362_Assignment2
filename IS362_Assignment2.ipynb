{
 "cells": [
  {
   "cell_type": "markdown",
   "metadata": {},
   "source": [
    "# BeautifulSoup in Python"
   ]
  },
  {
   "cell_type": "markdown",
   "metadata": {},
   "source": [
    "This will be a brief introduction to BeautifulSoup in Python. In my last class I had a hard time with this project but through research and preseverance I was able to complete the project. I am going to go through a few steps on how to use this library. "
   ]
  },
  {
   "cell_type": "markdown",
   "metadata": {},
   "source": [
    "This is an example of how to import BeautifulSoup to parse a web page:"
   ]
  },
  {
   "cell_type": "code",
   "execution_count": 17,
   "metadata": {
    "collapsed": true
   },
   "outputs": [],
   "source": [
    "import urllib2\n",
    "from bs4 import BeautifulSoup"
   ]
  },
  {
   "cell_type": "markdown",
   "metadata": {},
   "source": [
    "In order to parse a webpage you must include the url and tell python to how to parse the page:"
   ]
  },
  {
   "cell_type": "code",
   "execution_count": 18,
   "metadata": {},
   "outputs": [],
   "source": [
    "url = 'http://www.wunderground.com/history/airport/KNYC/2016/4/1/MonthlyCalendar.html'\n",
    "weatherpage = urllib2.urlopen(url)\n",
    "soupparse = BeautifulSoup(weatherpage.read(), \"lxml\")"
   ]
  },
  {
   "cell_type": "markdown",
   "metadata": {},
   "source": [
    "Next we can define the function:"
   ]
  },
  {
   "cell_type": "code",
   "execution_count": 19,
   "metadata": {
    "collapsed": true
   },
   "outputs": [],
   "source": [
    "def weatherdata():"
   ]
  },
  {
   "cell_type": "markdown",
   "metadata": {},
   "source": [
    "Here we get to the core of the function and tell python what we want and how to do it:"
   ]
  },
  {
   "cell_type": "code",
   "execution_count": null,
   "metadata": {
    "collapsed": true
   },
   "outputs": [],
   "source": [
    "def weatherdata():\n",
    "    weather = soupparse.findAll('table', {\"class\": 'dayTable'})\n",
    "    for w in weather:\n",
    "        if w.find('a', {\"class\": \"dateText\"}) is None:\n",
    "            pass\n",
    "        else:\n",
    "            day = w.find('a', {\"class\": \"dateText\"}).get_text()\n",
    "        if w.find('td', {\"class\": \"value-header\"}, text=['Actual:', 'Forecast:']) is None:\n",
    "            pass\n",
    "        else:\n",
    "            temp_type = w.find('td', {\"class\": \"value-header\"}, text=['Actual:', 'Forecast:']).get_text()\n",
    "            if w.find('span', {\"class\": \"high\"}) is None:\n",
    "                pass\n",
    "            else:\n",
    "                high_temp = w.find('span', {\"class\": \"high\"}).get_text()[:2]\n",
    "            if w.find('span', {\"class\": \"low\"}) is None:\n",
    "                pass\n",
    "            else:\n",
    "                low_temp = w.find('span', {\"class\": \"low\"}).get_text()[:2]\n",
    "            print \"Day of Month: {}, Temp Type: {}, High: {}, Low: {}\".format(day, temp_type, high_temp, low_temp)\n",
    "\n",
    "if __name__ == '__main__':\n",
    "    weatherdata()"
   ]
  },
  {
   "cell_type": "markdown",
   "metadata": {},
   "source": [
    "The results will give you a list of the weather for the chosen date (webpage preselected)."
   ]
  }
 ],
 "metadata": {
  "anaconda-cloud": {},
  "kernelspec": {
   "display_name": "Python 3",
   "language": "python",
   "name": "python3"
  },
  "language_info": {
   "codemirror_mode": {
    "name": "ipython",
    "version": 3
   },
   "file_extension": ".py",
   "mimetype": "text/x-python",
   "name": "python",
   "nbconvert_exporter": "python",
   "pygments_lexer": "ipython3",
   "version": "3.6.3"
  }
 },
 "nbformat": 4,
 "nbformat_minor": 1
}
